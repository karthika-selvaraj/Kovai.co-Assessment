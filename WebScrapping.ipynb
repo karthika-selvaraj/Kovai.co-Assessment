{
 "cells": [
  {
   "cell_type": "markdown",
   "metadata": {},
   "source": [
    "## Web Scraping"
   ]
  },
  {
   "cell_type": "code",
   "execution_count": 1,
   "metadata": {},
   "outputs": [],
   "source": [
    "from bs4 import BeautifulSoup\n",
    "import requests\n",
    "import lxml"
   ]
  },
  {
   "cell_type": "markdown",
   "metadata": {},
   "source": [
    "## Question - 1"
   ]
  },
  {
   "cell_type": "code",
   "execution_count": 14,
   "metadata": {},
   "outputs": [
    {
     "name": "stdout",
     "output_type": "stream",
     "text": [
      "Encourage Knowledge Sharing in the Workplace [6 Steps to Help]\n",
      "How to Create an Employee Training Plan [With Templates + Checklists]\n",
      "Customer Self-Service Software Guide: The Best Tools for 2022\n",
      "Knowledge Base Guide: Why Your Business Needs One (2022)\n",
      "Business Requirements Document: What it is & How to Write One\n",
      "Customer Service Performance Reviews: Processes + Template\n",
      "How to Create a Training Manual: Tips for Maximizing Impact\n",
      "How to Deliver 24/7 Customer Service & Tech Support \n",
      "The Best Knowledge Management Software & Tools [2022]\n",
      "Guide to Optimizing Internal Customer Service: 7 Key Strategies\n",
      "Change Management Process: 7 Steps to Successful Implementation\n",
      "How to Scale Your Customer Support Efforts as Your Business Grows\n"
     ]
    }
   ],
   "source": [
    "# Blog Title\n",
    "\n",
    "html_content = requests.get('https://helpjuice.com/blog/')\n",
    "content = html_content.text\n",
    "\n",
    "soup = BeautifulSoup(content, 'lxml')\n",
    "\n",
    "headings = soup.find_all('div', class_ = 'post-info')\n",
    "\n",
    "for title in headings:\n",
    "    BlogTitle = title.find('h3').text\n",
    "    print(BlogTitle)"
   ]
  },
  {
   "cell_type": "code",
   "execution_count": 18,
   "metadata": {},
   "outputs": [
    {
     "name": "stdout",
     "output_type": "stream",
     "text": [
      "Written by: Josh Brown\n",
      "Published: May 17 2022\n"
     ]
    }
   ],
   "source": [
    "# Blog author & Published Date\n",
    "\n",
    "html_content = requests.get('https://helpjuice.com/blog/knowledge-sharing')\n",
    "content = html_content.text\n",
    "\n",
    "soup = BeautifulSoup(content, 'lxml')\n",
    "\n",
    "author = soup.find('h4',class_ = 'author-name').text\n",
    "print(author)\n",
    "\n",
    "date = soup.find('span', class_ = 'date-published').text\n",
    "print(date)"
   ]
  },
  {
   "cell_type": "markdown",
   "metadata": {},
   "source": [
    "## Question - 2"
   ]
  },
  {
   "cell_type": "code",
   "execution_count": null,
   "metadata": {},
   "outputs": [],
   "source": [
    "html_content = requests.get('https://helpjuice.com/')\n",
    "content = html_content.text\n",
    "\n",
    "soup = BeautifulSoup(content, 'lxml')\n",
    "\n",
    "logo = soup.find('a', class_ = 'logo').text\n",
    "logo2 = logo.find('g', id_ = 'Group')\n",
    "\n",
    "print(logo2)"
   ]
  },
  {
   "cell_type": "code",
   "execution_count": null,
   "metadata": {},
   "outputs": [],
   "source": [
    "guru_url = requests.get('https://www.getguru.com')\n",
    "content= guru_url.text\n",
    "\n",
    "soup = BeautifulSoup(content,'lxml')\n",
    "\n",
    "guru_logo = soup.find('div', class_='new-nav-container')\n",
    "logo_pic = guru_logo.find('img', class_='guru')\n",
    "\n",
    "print(logo_pic)"
   ]
  },
  {
   "cell_type": "code",
   "execution_count": null,
   "metadata": {},
   "outputs": [],
   "source": []
  },
  {
   "cell_type": "code",
   "execution_count": null,
   "metadata": {},
   "outputs": [],
   "source": []
  },
  {
   "cell_type": "code",
   "execution_count": null,
   "metadata": {},
   "outputs": [],
   "source": []
  }
 ],
 "metadata": {
  "kernelspec": {
   "display_name": "Python 3",
   "language": "python",
   "name": "python3"
  },
  "language_info": {
   "codemirror_mode": {
    "name": "ipython",
    "version": 3
   },
   "file_extension": ".py",
   "mimetype": "text/x-python",
   "name": "python",
   "nbconvert_exporter": "python",
   "pygments_lexer": "ipython3",
   "version": "3.8.5"
  }
 },
 "nbformat": 4,
 "nbformat_minor": 4
}
